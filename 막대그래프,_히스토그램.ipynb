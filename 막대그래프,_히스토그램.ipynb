{
  "nbformat": 4,
  "nbformat_minor": 0,
  "metadata": {
    "colab": {
      "provenance": [],
      "authorship_tag": "ABX9TyP+QVfiWiiSz+vTaSgjUovR",
      "include_colab_link": true
    },
    "kernelspec": {
      "name": "python3",
      "display_name": "Python 3"
    },
    "language_info": {
      "name": "python"
    }
  },
  "cells": [
    {
      "cell_type": "markdown",
      "metadata": {
        "id": "view-in-github",
        "colab_type": "text"
      },
      "source": [
        "<a href=\"https://colab.research.google.com/github/yunseo4401/EDA/blob/main/%EB%A7%89%EB%8C%80%EA%B7%B8%EB%9E%98%ED%94%84%2C_%ED%9E%88%EC%8A%A4%ED%86%A0%EA%B7%B8%EB%9E%A8.ipynb\" target=\"_parent\"><img src=\"https://colab.research.google.com/assets/colab-badge.svg\" alt=\"Open In Colab\"/></a>"
      ]
    },
    {
      "cell_type": "markdown",
      "source": [
        "# 막대그래프 \n",
        "\n",
        "\n",
        "```\n",
        "# 코드로 형식 지정됨\n",
        "plt.bar(x,height,width=0.8,bottom=None,align='center',data=None)\n",
        "```\n",
        "\n",
        "x : 막대의 x좌표 \n",
        "\n",
        "bottom : 막대 바닥면의 y좌표 \n",
        "\n",
        "align : x좌표에 대한 막대 정렬 "
      ],
      "metadata": {
        "id": "FBmv1U_8klMe"
      }
    },
    {
      "cell_type": "code",
      "execution_count": 2,
      "metadata": {
        "colab": {
          "base_uri": "https://localhost:8080/"
        },
        "id": "miqG37o7kbT0",
        "outputId": "2bd7db81-300a-42d8-9c4a-7f2c6799230f"
      },
      "outputs": [
        {
          "output_type": "execute_result",
          "data": {
            "text/plain": [
              "class_1    71\n",
              "class_0    59\n",
              "class_2    48\n",
              "Name: class, dtype: int64"
            ]
          },
          "metadata": {},
          "execution_count": 2
        }
      ],
      "source": [
        "import pandas as pd\n",
        "import matplotlib.pyplot as plt\n",
        "from sklearn.datasets import load_wine\n",
        "wine_load=load_wine()\n",
        "wine=pd.DataFrame(wine_load.data,columns=wine_load.feature_names)\n",
        "wine['class']=wine_load.target\n",
        "wine['class']=wine['class'].map({0:'class_0',1:'class_1',2:'class_2'})\n",
        "\n",
        "wine_type=wine['class'].value_counts()\n",
        "wine_type"
      ]
    },
    {
      "cell_type": "code",
      "source": [
        "plt.bar(wine_type.index,wine_type.values,width=0.8,bottom=None,align='center')\n",
        "plt.show()"
      ],
      "metadata": {
        "colab": {
          "base_uri": "https://localhost:8080/",
          "height": 266
        },
        "id": "MlGgzzVjl_z3",
        "outputId": "10a08ed1-fa93-412e-c6ba-3c31861d0b92"
      },
      "execution_count": 3,
      "outputs": [
        {
          "output_type": "display_data",
          "data": {
            "text/plain": [
              "<Figure size 432x288 with 1 Axes>"
            ],
            "image/png": "[encoded data removed]"
          },
          "metadata": {
            "needs_background": "light"
          }
        }
      ]
    },
    {
      "cell_type": "code",
      "source": [
        "plt.barh(wine_type.index,wine_type.values,height=0.8,left=None,align='edge')\n",
        "plt.show()"
      ],
      "metadata": {
        "colab": {
          "base_uri": "https://localhost:8080/",
          "height": 265
        },
        "id": "hp5CWuHZmLXY",
        "outputId": "ba903304-9f6f-4866-cd2c-37e80565952d"
      },
      "execution_count": 6,
      "outputs": [
        {
          "output_type": "display_data",
          "data": {
            "text/plain": [
              "<Figure size 432x288 with 1 Axes>"
            ],
            "image/png": "[encoded data removed]"
          },
          "metadata": {
            "needs_background": "light"
          }
        }
      ]
    },
    {
      "cell_type": "markdown",
      "source": [
        "# 히스토그램 \n",
        "\n",
        "\n",
        "```\n",
        "# 코드로 형식 지정됨\n",
        "plt.hist('변수명',bins=None,range=None,density=False,data=df)\n",
        "```\n",
        "bins : 히스토그램의 구간의 개수 \n",
        "\n",
        "range : bin의 상한값과 하한값\n",
        "\n",
        "density : True이면 확률밀도 함수를 반환 \n"
      ],
      "metadata": {
        "id": "PjSDxErVmnml"
      }
    },
    {
      "cell_type": "code",
      "source": [
        "plt.title('wine alcohol histogram')\n",
        "plt.hist('alcohol',bins=8,range=(11,15),color='purple',data=wine)\n",
        "plt.show()"
      ],
      "metadata": {
        "colab": {
          "base_uri": "https://localhost:8080/",
          "height": 281
        },
        "id": "kbpcnzRTm9Ag",
        "outputId": "85f6c938-8e72-4d5f-b762-e2717057daf5"
      },
      "execution_count": 8,
      "outputs": [
        {
          "output_type": "display_data",
          "data": {
            "text/plain": [
              "<Figure size 432x288 with 1 Axes>"
            ],
            "image/png": "[encoded data removed]"
          },
          "metadata": {
            "needs_background": "light"
          }
        }
      ]
    }
  ]
}